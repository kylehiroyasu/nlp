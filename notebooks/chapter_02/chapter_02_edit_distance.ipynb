{
 "cells": [
  {
   "cell_type": "markdown",
   "metadata": {},
   "source": [
    "# Minimum Edit Distance and Dynamic Programming\n",
    "\n",
    "A common task in NLP is to measure how similar two different texts are. An old school way of approaching this problem, sans neural networks, is to simply measure how many additions and deletions would it take to start from text A and arrive at text B. For example we could imagine news headlines which are in down to the character level very similar:\n",
    "\n",
    "    \"President Obama spoke today in the Rose Garden\"\n",
    "    \"Barack Obama spoke in the Rose Garden\"\n",
    "    \n",
    "Strictly speaking the strings are different, however they are very similar in wording, and even convey similar meaning.\n",
    "\n",
    "The challenge with determining how many edits does it take to start from text A and arrive at text B is that we must **search** for the the fewest amount of edits possible. To achieve this we will rely on **dynamic programming** which is a class of algorithms which relies on tables to solve the problem. Two examples which will come up frequently are **Viterbi** and **CKY**.\n",
    "\n",
    "The key idea in such algorithms is that we incrementally brute force all possibilities, however we keep track of each step and its associated cost. Thus when we have completed trying all possible combinations, we can retrace the steps which led to the lowest cost solution. To illustrate this concept we can program the algorithm. After that we will quickly review a few libraries which help you do this."
   ]
  },
  {
   "cell_type": "markdown",
   "metadata": {},
   "source": [
    "### Minimum Edit Distance Implementation\n",
    "\n",
    "As as simple example, assume we want to find how few changes does it require to get from the single word 'intention' to the 'execution'. How many changes does it take?"
   ]
  },
  {
   "cell_type": "code",
   "execution_count": 2,
   "metadata": {},
   "outputs": [],
   "source": [
    "import itertools"
   ]
  },
  {
   "cell_type": "code",
   "execution_count": 25,
   "metadata": {},
   "outputs": [],
   "source": [
    "import numpy as np\n",
    "import pandas as pd\n",
    "\n",
    "def substitution_logic(source_letter, target_letter, cost):\n",
    "    if source_letter == target_letter:\n",
    "        return 0\n",
    "    else:\n",
    "        return cost\n",
    "\n",
    "def min_edit_distance(source, target, insert_cost=1, delete_cost=1, substitute_cost=2):\n",
    "    source = '#{}'.format(source)\n",
    "    target = '#{}'.format(target)\n",
    "    n = len(source)\n",
    "    m = len(target)\n",
    "\n",
    "    table = np.zeros((n,m))\n",
    "\n",
    "    for row in range(1,n):\n",
    "        table[row,0] = table[row-1,0] + delete_cost\n",
    "    for col in range(1,m):\n",
    "        table[0, col] = table[0, col-1] + insert_cost\n",
    "\n",
    "    for row, col in itertools.product(range(1,n), range(1,m)):\n",
    "        table[row, col] = min(table[row-1,col] + delete_cost, \n",
    "                              table[row-1,col-1] + substitution_logic(source[row], target[col], substitute_cost), \n",
    "                              table[row, col-1] + insert_cost)\n",
    "    df = pd.DataFrame(res, columns=list(target), dtype=int)\n",
    "    df.index = list(source)\n",
    "    return df"
   ]
  },
  {
   "cell_type": "code",
   "execution_count": 26,
   "metadata": {},
   "outputs": [
    {
     "data": {
      "text/html": [
       "<div>\n",
       "<style scoped>\n",
       "    .dataframe tbody tr th:only-of-type {\n",
       "        vertical-align: middle;\n",
       "    }\n",
       "\n",
       "    .dataframe tbody tr th {\n",
       "        vertical-align: top;\n",
       "    }\n",
       "\n",
       "    .dataframe thead th {\n",
       "        text-align: right;\n",
       "    }\n",
       "</style>\n",
       "<table border=\"1\" class=\"dataframe\">\n",
       "  <thead>\n",
       "    <tr style=\"text-align: right;\">\n",
       "      <th></th>\n",
       "      <th>#</th>\n",
       "      <th>e</th>\n",
       "      <th>x</th>\n",
       "      <th>e</th>\n",
       "      <th>c</th>\n",
       "      <th>u</th>\n",
       "      <th>t</th>\n",
       "      <th>i</th>\n",
       "      <th>o</th>\n",
       "      <th>n</th>\n",
       "    </tr>\n",
       "  </thead>\n",
       "  <tbody>\n",
       "    <tr>\n",
       "      <th>#</th>\n",
       "      <td>0</td>\n",
       "      <td>1</td>\n",
       "      <td>2</td>\n",
       "      <td>3</td>\n",
       "      <td>4</td>\n",
       "      <td>5</td>\n",
       "      <td>6</td>\n",
       "      <td>7</td>\n",
       "      <td>8</td>\n",
       "      <td>9</td>\n",
       "    </tr>\n",
       "    <tr>\n",
       "      <th>i</th>\n",
       "      <td>1</td>\n",
       "      <td>2</td>\n",
       "      <td>3</td>\n",
       "      <td>4</td>\n",
       "      <td>5</td>\n",
       "      <td>6</td>\n",
       "      <td>7</td>\n",
       "      <td>6</td>\n",
       "      <td>7</td>\n",
       "      <td>8</td>\n",
       "    </tr>\n",
       "    <tr>\n",
       "      <th>n</th>\n",
       "      <td>2</td>\n",
       "      <td>3</td>\n",
       "      <td>4</td>\n",
       "      <td>5</td>\n",
       "      <td>6</td>\n",
       "      <td>7</td>\n",
       "      <td>8</td>\n",
       "      <td>7</td>\n",
       "      <td>8</td>\n",
       "      <td>7</td>\n",
       "    </tr>\n",
       "    <tr>\n",
       "      <th>t</th>\n",
       "      <td>3</td>\n",
       "      <td>4</td>\n",
       "      <td>5</td>\n",
       "      <td>6</td>\n",
       "      <td>7</td>\n",
       "      <td>8</td>\n",
       "      <td>7</td>\n",
       "      <td>8</td>\n",
       "      <td>9</td>\n",
       "      <td>8</td>\n",
       "    </tr>\n",
       "    <tr>\n",
       "      <th>e</th>\n",
       "      <td>4</td>\n",
       "      <td>3</td>\n",
       "      <td>4</td>\n",
       "      <td>5</td>\n",
       "      <td>6</td>\n",
       "      <td>7</td>\n",
       "      <td>8</td>\n",
       "      <td>9</td>\n",
       "      <td>10</td>\n",
       "      <td>9</td>\n",
       "    </tr>\n",
       "    <tr>\n",
       "      <th>n</th>\n",
       "      <td>5</td>\n",
       "      <td>4</td>\n",
       "      <td>5</td>\n",
       "      <td>6</td>\n",
       "      <td>7</td>\n",
       "      <td>8</td>\n",
       "      <td>9</td>\n",
       "      <td>10</td>\n",
       "      <td>11</td>\n",
       "      <td>10</td>\n",
       "    </tr>\n",
       "    <tr>\n",
       "      <th>t</th>\n",
       "      <td>6</td>\n",
       "      <td>5</td>\n",
       "      <td>6</td>\n",
       "      <td>7</td>\n",
       "      <td>8</td>\n",
       "      <td>9</td>\n",
       "      <td>8</td>\n",
       "      <td>9</td>\n",
       "      <td>10</td>\n",
       "      <td>11</td>\n",
       "    </tr>\n",
       "    <tr>\n",
       "      <th>i</th>\n",
       "      <td>7</td>\n",
       "      <td>6</td>\n",
       "      <td>7</td>\n",
       "      <td>8</td>\n",
       "      <td>9</td>\n",
       "      <td>10</td>\n",
       "      <td>9</td>\n",
       "      <td>8</td>\n",
       "      <td>9</td>\n",
       "      <td>10</td>\n",
       "    </tr>\n",
       "    <tr>\n",
       "      <th>o</th>\n",
       "      <td>8</td>\n",
       "      <td>7</td>\n",
       "      <td>8</td>\n",
       "      <td>9</td>\n",
       "      <td>10</td>\n",
       "      <td>11</td>\n",
       "      <td>10</td>\n",
       "      <td>9</td>\n",
       "      <td>8</td>\n",
       "      <td>9</td>\n",
       "    </tr>\n",
       "    <tr>\n",
       "      <th>n</th>\n",
       "      <td>9</td>\n",
       "      <td>8</td>\n",
       "      <td>9</td>\n",
       "      <td>10</td>\n",
       "      <td>11</td>\n",
       "      <td>12</td>\n",
       "      <td>11</td>\n",
       "      <td>10</td>\n",
       "      <td>9</td>\n",
       "      <td>8</td>\n",
       "    </tr>\n",
       "  </tbody>\n",
       "</table>\n",
       "</div>"
      ],
      "text/plain": [
       "   #  e  x   e   c   u   t   i   o   n\n",
       "#  0  1  2   3   4   5   6   7   8   9\n",
       "i  1  2  3   4   5   6   7   6   7   8\n",
       "n  2  3  4   5   6   7   8   7   8   7\n",
       "t  3  4  5   6   7   8   7   8   9   8\n",
       "e  4  3  4   5   6   7   8   9  10   9\n",
       "n  5  4  5   6   7   8   9  10  11  10\n",
       "t  6  5  6   7   8   9   8   9  10  11\n",
       "i  7  6  7   8   9  10   9   8   9  10\n",
       "o  8  7  8   9  10  11  10   9   8   9\n",
       "n  9  8  9  10  11  12  11  10   9   8"
      ]
     },
     "execution_count": 26,
     "metadata": {},
     "output_type": "execute_result"
    }
   ],
   "source": [
    "source = 'intention'\n",
    "target = 'execution'\n",
    "\n",
    "min_edit_distance(source, target)"
   ]
  },
  {
   "cell_type": "markdown",
   "metadata": {},
   "source": [
    "Having generated the table of results we can trace the path back from the lower right diagnol to the upper left corner traversing either left, up, or diagnol which indicate an insertion, substitution, and deletion respectively.\n",
    "\n",
    "It should be noted that the costs defined as the default values in the above function are referred to as the Levenshtein distance. In this metric, substitutions are equivalent to one deletion and one addition. Certainly one could adjust these costs if it makes sense for the given use case.\n",
    "\n",
    "In the next section let's take a look at a few libaries which offer this functionality in prebuilt python packages"
   ]
  },
  {
   "cell_type": "markdown",
   "metadata": {},
   "source": [
    "## `textdistance` and `fuzzywuzzy`\n",
    "\n",
    "Two popular python libraries for accomplish this task are [`textdistance`](https://github.com/life4/textdistance) and [`fuzzywuzzy`](https://github.com/seatgeek/fuzzywuzzy).  In addition the `textdistance` repo links to a few nice resources such as [this one](http://theautomatic.net/2019/11/13/guide-to-fuzzy-matching-with-python/) about use cases for such libraries and the various algorithms."
   ]
  },
  {
   "cell_type": "code",
   "execution_count": 30,
   "metadata": {},
   "outputs": [],
   "source": [
    "import textdistance\n",
    "from fuzzywuzzy import fuzz"
   ]
  },
  {
   "cell_type": "code",
   "execution_count": 28,
   "metadata": {},
   "outputs": [],
   "source": [
    "source = 'Obama was seen talking to reporters on Tuesday'\n",
    "target = 'President Obama spoke to the press Tuesday afternoon'"
   ]
  },
  {
   "cell_type": "code",
   "execution_count": 36,
   "metadata": {},
   "outputs": [
    {
     "name": "stdout",
     "output_type": "stream",
     "text": [
      "CPU times: user 30 µs, sys: 1e+03 ns, total: 31 µs\n",
      "Wall time: 34.8 µs\n"
     ]
    },
    {
     "data": {
      "text/plain": [
       "39"
      ]
     },
     "execution_count": 36,
     "metadata": {},
     "output_type": "execute_result"
    }
   ],
   "source": [
    "%%time\n",
    "textdistance.levenshtein.distance(source, target)"
   ]
  },
  {
   "cell_type": "code",
   "execution_count": 33,
   "metadata": {},
   "outputs": [
    {
     "name": "stdout",
     "output_type": "stream",
     "text": [
      "CPU times: user 20 µs, sys: 0 ns, total: 20 µs\n",
      "Wall time: 21.7 µs\n"
     ]
    },
    {
     "data": {
      "text/plain": [
       "51"
      ]
     },
     "execution_count": 33,
     "metadata": {},
     "output_type": "execute_result"
    }
   ],
   "source": [
    "%%time\n",
    "fuzz.ratio(source, target)"
   ]
  },
  {
   "cell_type": "markdown",
   "metadata": {},
   "source": [
    "As is seen, the results that `fuzzywuzzy` and `textdistance` deliver are totally different. `fuzzywuzzy` focuses on simplicity, supporting only levenshtein distance and some convenience functions to process a string against multiple targets to find the most similar. In contrast `textdistance` offers a wider variety of algorithms which extend beyond character based edit distance/similarity. For more information certainly check out the repositories linked above."
   ]
  },
  {
   "cell_type": "code",
   "execution_count": null,
   "metadata": {},
   "outputs": [],
   "source": []
  }
 ],
 "metadata": {
  "kernelspec": {
   "display_name": "Python [conda env:nlp]",
   "language": "python",
   "name": "conda-env-nlp-py"
  },
  "language_info": {
   "codemirror_mode": {
    "name": "ipython",
    "version": 3
   },
   "file_extension": ".py",
   "mimetype": "text/x-python",
   "name": "python",
   "nbconvert_exporter": "python",
   "pygments_lexer": "ipython3",
   "version": "3.8.5"
  }
 },
 "nbformat": 4,
 "nbformat_minor": 4
}
