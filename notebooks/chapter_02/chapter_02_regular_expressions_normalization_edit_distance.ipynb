{
 "cells": [
  {
   "cell_type": "markdown",
   "metadata": {},
   "source": [
    "# Chapter 2 \n",
    "## Regular Expressions, Text Normalization and Edit Distance\n",
    "\n",
    "Regular expressions are useful in analysing data. Their use is not limited to only NLP, often we want to extract specific values or patterns from a document. Furthermore this tool is often supplied in many common commandline tools as a means to search the file system and its contents.\n",
    "\n",
    "Turning to NLP their value centers around tasks we will call **text normalization** and **tokenization**. **Text normalization** as its name implies refers to tasks or tricks used by nlp practitioners to normalize written text into some standard form. This can be not only things such as fixing spelling errors, correcting numbers to all use the same formatting, and making all nouns singular but also **sentence segmentation** (splitting text to sentences).\n",
    "\n",
    "**Tokenization** the task of splitting words is intuitive to humans, however describing the exceptions, or errors which appear in real world data in terms of a regular expression are difficult. Examples of such exceptions are the following:\n",
    "\n",
    "    - New York\n",
    "    - rock'n'roll\n",
    "    - emoticons: ':)'\n",
    "    - hashtags: #blm\n",
    "    \n",
    "As shown in the text, regular expressions can also be used to parse text in a predictable format and extract subjects, however these types of applications are very rigid and labor intensive.\n",
    "\n",
    "Another task in **text normalization** is **lemmatization** and it's simplified counterpart **stemming**. **Lemmatization** is the process of mapping words to their roots, for example *sings*, *sang*, and *sung* all share the root *sing*. While english is one of the most morphologically simplest languages, many other languages allow words to adapt to not only tense, but gender, person, etc. making the task of mapping a word to its **lemma** much more labor intensive. To this end, **stemming** is a pragmatic approach which removes suffixes from words, in an attempt to strip them to some common subword."
   ]
  },
  {
   "cell_type": "markdown",
   "metadata": {},
   "source": [
    "## Regular Expressions\n",
    "\n",
    "Regex has a specialized syntax to allow one to specify complex string patterns.\n",
    "\n",
    "The fundamental parts are:\n",
    "\n",
    "- [] : square brackets called a **disjunction**, matches any one of the single characters in contains\n",
    "- [a-z], [A-Z], [0-9]: all specify a range of possible single character matches\n",
    "- [^] : using a caret as the first character in the square bracket specifies a not\n",
    "- ? : outside of square brackets, refers to 0 or 1 of the preceding letter\n",
    "- * : zero or more of the preceding character\n",
    "- + : one or more of the preceding character\n",
    "- . : the wildcard, matching any single character\n",
    "- ^/$ : anchors denoting start and end of the string, remember power before money\n",
    "- \\b : matches a word boundary, i.e. where a sequence of digits, underscores, or letters ends\n",
    "- | : pipe/disjunction is the or operator\n",
    "- () : groups expression\n",
    "- {n,m} : curly brackets can be used to define a specific number or range of repetitions\n",
    "- () + \\1 : can rereference a captured group by referring to it's index\n",
    "- (?:) : makes group uncaptured\n",
    "- (?= pattern) : is true is the pattern occurs but the match pointer doesn't advance\n",
    "- (?! pattern) : returns true if a pattern does not match and again the doesn't advance the cursor"
   ]
  },
  {
   "cell_type": "code",
   "execution_count": 1,
   "metadata": {},
   "outputs": [],
   "source": [
    "import re"
   ]
  },
  {
   "cell_type": "code",
   "execution_count": 19,
   "metadata": {},
   "outputs": [],
   "source": [
    "examples = [\n",
    "    ('[a]', 'aaa'),\n",
    "    ('[a-z]', 'ABc'),\n",
    "    ('[^a-z]', 'ABc'),\n",
    "    ('chainsaws?', 'chainsaw chainsaws, chainsawss'),\n",
    "    (r'the\\b', 'the other'),#must preprend r otherwise interpreted as backspace\n",
    "    (r'([a-z]{3}) the \\1', 'dog the dog and hog the hog but dont hog the dog')\n",
    "]"
   ]
  },
  {
   "cell_type": "code",
   "execution_count": 18,
   "metadata": {},
   "outputs": [
    {
     "name": "stdout",
     "output_type": "stream",
     "text": [
      "[a] aaa ['a', 'a', 'a']\n",
      "[a-z] ABc ['c']\n",
      "[^a-z] ABc ['A', 'B']\n",
      "chainsaws? chainsaw chainsaws, chainsawss ['chainsaw', 'chainsaws', 'chainsaws']\n",
      "the\\b the other ['the']\n",
      "([a-z]{3}) the \\1 dog the dog and hog the hog ['dog', 'hog']\n"
     ]
    }
   ],
   "source": [
    "for regex, example in examples:\n",
    "    print(regex, example, re.findall(regex, example))"
   ]
  },
  {
   "cell_type": "code",
   "execution_count": 4,
   "metadata": {},
   "outputs": [
    {
     "data": {
      "text/plain": [
       "['a', 'a', 'a', 'a', 'a']"
      ]
     },
     "execution_count": 4,
     "metadata": {},
     "output_type": "execute_result"
    }
   ],
   "source": [
    "re.findall('a', 'aaaaa')"
   ]
  },
  {
   "cell_type": "code",
   "execution_count": null,
   "metadata": {},
   "outputs": [],
   "source": []
  }
 ],
 "metadata": {
  "kernelspec": {
   "display_name": "Python [conda env:nlp]",
   "language": "python",
   "name": "conda-env-nlp-py"
  },
  "language_info": {
   "codemirror_mode": {
    "name": "ipython",
    "version": 3
   },
   "file_extension": ".py",
   "mimetype": "text/x-python",
   "name": "python",
   "nbconvert_exporter": "python",
   "pygments_lexer": "ipython3",
   "version": "3.6.12"
  }
 },
 "nbformat": 4,
 "nbformat_minor": 2
}
