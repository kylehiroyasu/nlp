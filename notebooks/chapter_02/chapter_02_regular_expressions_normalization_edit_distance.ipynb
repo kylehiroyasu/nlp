{
 "cells": [
  {
   "cell_type": "markdown",
   "metadata": {},
   "source": [
    "# Chapter 2 \n",
    "## Regular Expressions, Text Normalization and Edit Distance\n",
    "\n",
    "Regular expressions are useful in analysing data. Their use is not limited to only NLP, often we want to extract specific values or patterns from a document. Furthermore this tool is often supplied in many common commandline tools as a means to search the file system and its contents.\n",
    "\n",
    "Turning to NLP their value centers around tasks we will call **text normalization** and **tokenization**. **Text normalization** as its name implies refers to tasks or tricks used by nlp practitioners to normalize written text into some standard form. This can be not only things such as fixing spelling errors, correcting numbers to all use the same formatting, and making all nouns singular but also **sentence segmentation** (splitting text to sentences).\n",
    "\n",
    "**Tokenization** the task of splitting words is intuitive to humans, however describing the exceptions, or errors which appear in real world data in terms of a regular expression are difficult. Examples of such exceptions are the following:\n",
    "\n",
    "    - New York\n",
    "    - rock'n'roll\n",
    "    - emoticons: ':)'\n",
    "    - hashtags: #blm\n",
    "    \n",
    "As shown in the text, regular expressions can also be used to parse text in a predictable format and extract subjects, however these types of applications are very rigid and labor intensive.\n",
    "\n",
    "Another task in **text normalization** is **lemmatization** and it's simplified counterpart **stemming**. **Lemmatization** is the process of mapping words to their roots, for example *sings*, *sang*, and *sung* all share the root *sing*. While english is one of the most morphologically simplest languages, many other languages allow words to adapt to not only tense, but gender, person, etc. making the task of mapping a word to its **lemma** much more labor intensive. To this end, **stemming** is a pragmatic approach which removes suffixes from words, in an attempt to strip them to some common subword."
   ]
  },
  {
   "cell_type": "markdown",
   "metadata": {},
   "source": [
    "## Regular Expressions\n",
    "\n",
    "Regex has a specialized syntax to allow one to specify complex string patterns.\n",
    "\n",
    "The fundamental parts are:\n",
    "\n",
    "- `[]` : square brackets called a **disjunction**, matches any one of the single characters in contains\n",
    "- `[a-z]`, `[A-Z]`, `[0-9]`: all specify a range of possible single character matches\n",
    "- `[^]` : using a caret as the first character in the square bracket specifies a not\n",
    "- `?` : outside of square brackets, refers to 0 or 1 of the preceding letter\n",
    "- `*` : zero or more of the preceding character\n",
    "- `+` : one or more of the preceding character\n",
    "- `.` : the wildcard, matching any single character\n",
    "- `^`+`$` : anchors denoting start and end of the string, remember power before money\n",
    "- `\\b` : matches a word boundary, i.e. where a sequence of digits, underscores, or letters ends\n",
    "- `|` : pipe/disjunction is the or operator\n",
    "- `()` : groups expression\n",
    "- `{n,m}` : curly brackets can be used to define a specific number or range of repetitions\n",
    "- `()` + `\\1` : can rereference a captured group by referring to it's index\n",
    "- `(?:)` : makes group uncaptured\n",
    "- `(?= pattern)` : is true is the pattern occurs but the match pointer doesn't advance\n",
    "- `(?! pattern)` : returns true if a pattern does not match and again the doesn't advance the cursor"
   ]
  },
  {
   "cell_type": "code",
   "execution_count": 4,
   "metadata": {},
   "outputs": [],
   "source": [
    "from IPython.core.display import display, Markdown, HTML"
   ]
  },
  {
   "cell_type": "code",
   "execution_count": 3,
   "metadata": {},
   "outputs": [],
   "source": [
    "import pandas as pd"
   ]
  },
  {
   "cell_type": "code",
   "execution_count": 8,
   "metadata": {},
   "outputs": [],
   "source": [
    "import re"
   ]
  },
  {
   "cell_type": "code",
   "execution_count": 11,
   "metadata": {},
   "outputs": [],
   "source": [
    "examples = [\n",
    "    ('[a]', 'aaa'),\n",
    "    ('[a-z]', 'ABc'),\n",
    "    ('[^a-z]', 'ABc'),\n",
    "    ('chainsaws?', 'chainsaw chainsaws, chainsawss'),\n",
    "    (r'the\\b', 'the other'),#must preprend r otherwise interpreted as backspace\n",
    "    (r'([a-z]{3}) the \\1', 'dog the dog and hog the frog but no hog the dog')\n",
    "]"
   ]
  },
  {
   "cell_type": "code",
   "execution_count": 12,
   "metadata": {},
   "outputs": [
    {
     "data": {
      "text/html": [
       "<table border=\"1\" class=\"dataframe\">\n",
       "  <thead>\n",
       "    <tr style=\"text-align: right;\">\n",
       "      <th></th>\n",
       "      <th>pattern</th>\n",
       "      <th>example</th>\n",
       "      <th>matches</th>\n",
       "    </tr>\n",
       "  </thead>\n",
       "  <tbody>\n",
       "    <tr>\n",
       "      <th>0</th>\n",
       "      <td>[a]</td>\n",
       "      <td>aaa</td>\n",
       "      <td>[a, a, a]</td>\n",
       "    </tr>\n",
       "    <tr>\n",
       "      <th>1</th>\n",
       "      <td>[a-z]</td>\n",
       "      <td>ABc</td>\n",
       "      <td>[c]</td>\n",
       "    </tr>\n",
       "    <tr>\n",
       "      <th>2</th>\n",
       "      <td>[^a-z]</td>\n",
       "      <td>ABc</td>\n",
       "      <td>[A, B]</td>\n",
       "    </tr>\n",
       "    <tr>\n",
       "      <th>3</th>\n",
       "      <td>chainsaws?</td>\n",
       "      <td>chainsaw chainsaws, chainsawss</td>\n",
       "      <td>[chainsaw, chainsaws, chainsaws]</td>\n",
       "    </tr>\n",
       "    <tr>\n",
       "      <th>4</th>\n",
       "      <td>the\\b</td>\n",
       "      <td>the other</td>\n",
       "      <td>[the]</td>\n",
       "    </tr>\n",
       "    <tr>\n",
       "      <th>5</th>\n",
       "      <td>([a-z]{3}) the \\1</td>\n",
       "      <td>dog the dog and hog the frog but no hog the dog</td>\n",
       "      <td>[dog]</td>\n",
       "    </tr>\n",
       "  </tbody>\n",
       "</table>"
      ],
      "text/plain": [
       "<IPython.core.display.HTML object>"
      ]
     },
     "metadata": {},
     "output_type": "display_data"
    }
   ],
   "source": [
    "results = []\n",
    "for regex, example in examples:\n",
    "    results.append({\n",
    "        'pattern':regex, \n",
    "        'example': example, \n",
    "        'matches': re.findall(regex, example)}\n",
    "    )\n",
    "display(HTML(pd.DataFrame(results).to_html()))"
   ]
  },
  {
   "cell_type": "markdown",
   "metadata": {},
   "source": [
    "## Words\n",
    "\n",
    "Deciding what counts as a word can depend heavily on the downstream task. For topic modeling or text classification punctuation may not play a big role, however things like sentiment analysis, speech to text, or parsing linguistic features may rely on such information. Furthermore, in speech to text, one might encounter words like *uh* or *um* which may or may not be useful.\n",
    "\n",
    "Further complications can be things like the casing of a word, *they* versus *They* or the inflection of words like *cats* verus *cat*.  A **lemma** refers to sets of inflected word forms which share the same stem, part of speech and word sense. In contrast **word form** is the inflected form, the natural variations of words that come up in language.\n",
    "\n",
    "The english language is rather forgiving in this sense, because a given **lemma** tends to have a limited number of **word forms**. In contrast languages like **Arabic** or **Turkish** rely on a large variety of **word forms** for any given **lemma**. This can be more challenging because if these tokens are treated indepently, a model has to recover the relationship between a wide array possible **word forms**.\n",
    "\n",
    "One phenomena that comes up in english corpora is called **Herdan's Law** or **Heap's Law** which implies that the  size of the vocabulary for a text goes up significantly fast than the square root of its length in words. Namely for `V` the vocabulary (i.e. unique words) of a corpora, where the corpora consists of `N` tokens (the individual, non-unique words of a text) the following holds:\n",
    "\n",
    "```\n",
    "|V| = kN^b\n",
    "```\n",
    " where `k` and `b` are positive constants and `0 < b < 1` (usually ~ 0.65-0.75). This pattern will come up when we experiment with tokenization in the next section.\n",
    " \n",
    " "
   ]
  },
  {
   "cell_type": "markdown",
   "metadata": {},
   "source": [
    "## Tokenization\n",
    "\n",
    "Strictly speaking, things like tokenization can be done via hand written regexp and bash scripts, however there now exist libraries like spaCy which make the process of tokenization and extraction of linguistic features much easier. In addition, to overcome limitations of more complex languages and their morphological features, sub-word tokenization approaches have also been developed."
   ]
  }
 ],
 "metadata": {
  "kernelspec": {
   "display_name": "Python [conda env:nlp]",
   "language": "python",
   "name": "conda-env-nlp-py"
  },
  "language_info": {
   "codemirror_mode": {
    "name": "ipython",
    "version": 3
   },
   "file_extension": ".py",
   "mimetype": "text/x-python",
   "name": "python",
   "nbconvert_exporter": "python",
   "pygments_lexer": "ipython3",
   "version": "3.6.12"
  }
 },
 "nbformat": 4,
 "nbformat_minor": 2
}
